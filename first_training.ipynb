{
 "cells": [
  {
   "cell_type": "markdown",
   "metadata": {},
   "source": [
    "#### 1. Import the Relevent Packages"
   ]
  },
  {
   "cell_type": "code",
   "execution_count": 17,
   "metadata": {},
   "outputs": [],
   "source": [
    "import torch\n",
    "import torch.nn as nn\n",
    "import torch.optim as optim\n",
    "from torchvision import transforms, datasets, models\n",
    "import cv2\n",
    "import numpy as np\n",
    "import matplotlib.pyplot as plt\n",
    "from torch.utils.data import DataLoader, Dataset\n",
    "from glob import glob\n",
    "from torchsummary import summary\n",
    "import os\n",
    "import warnings\n",
    "warnings.filterwarnings('ignore')"
   ]
  },
  {
   "cell_type": "code",
   "execution_count": 18,
   "metadata": {},
   "outputs": [],
   "source": [
    "# Device configuration\n",
    "device = torch.device(\"cuda\" if torch.cuda.is_available() else \"cpu\")"
   ]
  },
  {
   "cell_type": "markdown",
   "metadata": {},
   "source": [
    "#### 2. Prepare the Dataset"
   ]
  },
  {
   "cell_type": "code",
   "execution_count": 19,
   "metadata": {},
   "outputs": [],
   "source": [
    "class MyDataset(Dataset):\n",
    "    \n",
    "    def __init__(self, root, transform_status=True):\n",
    "        self.root = root\n",
    "        # Only include folders that are directories and do not start with '.'\n",
    "        folders = [folder for folder in os.listdir(root) \n",
    "                   if os.path.isdir(os.path.join(root, folder)) and not folder.startswith('.')]\n",
    "        self.classes_names = {class_name: label for label, class_name in enumerate(sorted(folders))}\n",
    "        self.images_paths = [glob(f'{root}/{folder}/*.jpg') for folder in folders]\n",
    "        import itertools\n",
    "        self.images_paths = list(itertools.chain.from_iterable(self.images_paths))\n",
    "        import random\n",
    "        random.shuffle(self.images_paths)\n",
    "        self.labels = [self.classes_names[os.path.basename(os.path.dirname(path))] for path in self.images_paths]\n",
    "        self.transform_status = transform_status\n",
    "        self.transform = transforms.Normalize(mean=[0.485,0.456, 0.406],std=[0.229, 0.224, 0.225])\n",
    "    \n",
    "    def __len__(self):\n",
    "        return len(self.images_paths)   \n",
    "        \n",
    "    def __getitem__(self, index):\n",
    "        image_path = self.images_paths[index]\n",
    "        image = cv2.imread(image_path)[:,:,::-1]\n",
    "        image = cv2.resize(image, (64,64))\n",
    "        image = torch.tensor(image/255).permute(2,0,1)\n",
    "        if self.transform_status: image = self.transform(image)\n",
    "        label = self.labels[index]\n",
    "        return image.float().to(device), torch.tensor(label).long().to(device)\n",
    "    \n",
    "    "
   ]
  },
  {
   "cell_type": "code",
   "execution_count": 20,
   "metadata": {},
   "outputs": [],
   "source": [
    "data =  MyDataset(\"dataset_rgb/train\", transform_status=False)"
   ]
  },
  {
   "cell_type": "code",
   "execution_count": 21,
   "metadata": {},
   "outputs": [
    {
     "data": {
      "text/plain": [
       "{'AnnualCrop': 0,\n",
       " 'Forest': 1,\n",
       " 'HerbaceousVegetation': 2,\n",
       " 'Highway': 3,\n",
       " 'Industrial': 4,\n",
       " 'Pasture': 5,\n",
       " 'PermanentCrop': 6,\n",
       " 'Residential': 7,\n",
       " 'River': 8,\n",
       " 'SeaLake': 9}"
      ]
     },
     "execution_count": 21,
     "metadata": {},
     "output_type": "execute_result"
    }
   ],
   "source": [
    "data.classes_names"
   ]
  },
  {
   "cell_type": "code",
   "execution_count": 22,
   "metadata": {},
   "outputs": [],
   "source": [
    "import random\n",
    "image, label = data[random.randint(0, len(data))]"
   ]
  },
  {
   "cell_type": "code",
   "execution_count": 23,
   "metadata": {},
   "outputs": [
    {
     "name": "stdout",
     "output_type": "stream",
     "text": [
      "Image Size: 64 x 64 x 3\n",
      "Label: 7\n",
      "Residential\n"
     ]
    },
    {
     "data": {
      "image/png": "[encoded data removed]",
      "text/plain": [
       "<Figure size 640x480 with 1 Axes>"
      ]
     },
     "metadata": {},
     "output_type": "display_data"
    }
   ],
   "source": [
    "print(f\"Image Size: {image.shape[2]} x {image.shape[1]} x {image.shape[0]}\")\n",
    "print(f\"Label: {label}\")\n",
    "print([key  for key, value in data.classes_names.items() if value == label][0])\n",
    "plt.imshow(image.permute(1,2,0).cpu().numpy())\n",
    "plt.show()"
   ]
  },
  {
   "cell_type": "code",
   "execution_count": 24,
   "metadata": {},
   "outputs": [],
   "source": [
    "train_dataset = MyDataset(\"dataset_rgb/train\", transform_status=True)\n",
    "test_dataset = MyDataset(\"dataset_rgb/test\", transform_status=True)\n",
    "train_dataset_loader = DataLoader(train_dataset, batch_size=32, shuffle=True, drop_last=True)\n",
    "test_dataset_loader = DataLoader(test_dataset, batch_size=32, shuffle=True, drop_last=True)"
   ]
  },
  {
   "cell_type": "markdown",
   "metadata": {},
   "source": [
    "#### 3. Build the Model"
   ]
  },
  {
   "cell_type": "code",
   "execution_count": 25,
   "metadata": {},
   "outputs": [],
   "source": [
    "def build_model():\n",
    "    vgg19 = models.vgg19(pretrained=True)\n",
    "    for param in vgg19.parameters():\n",
    "        param.requires_grad = False\n",
    "    vgg19.avgpool = nn.AdaptiveAvgPool2d(output_size=(1,1))\n",
    "    vgg19.classifier = nn.Sequential(   nn.Flatten(),\n",
    "                                        nn.Linear(512, 128),\n",
    "                                        nn.ReLU(),\n",
    "                                        nn.Dropout(0.2),\n",
    "                                        nn.Linear(128, 10))\n",
    "    loss_function = nn.CrossEntropyLoss()\n",
    "    optimizer = optim.Adam(vgg19.parameters(), lr=1e-3)\n",
    "\n",
    "    return vgg19.to(device), loss_function, optimizer"
   ]
  },
  {
   "cell_type": "code",
   "execution_count": 26,
   "metadata": {},
   "outputs": [],
   "source": [
    "model , loss_function, optimizer = build_model()"
   ]
  },
  {
   "cell_type": "code",
   "execution_count": 27,
   "metadata": {},
   "outputs": [
    {
     "name": "stdout",
     "output_type": "stream",
     "text": [
      "----------------------------------------------------------------\n",
      "        Layer (type)               Output Shape         Param #\n",
      "================================================================\n",
      "            Conv2d-1           [-1, 64, 64, 64]           1,792\n",
      "              ReLU-2           [-1, 64, 64, 64]               0\n",
      "            Conv2d-3           [-1, 64, 64, 64]          36,928\n",
      "              ReLU-4           [-1, 64, 64, 64]               0\n",
      "         MaxPool2d-5           [-1, 64, 32, 32]               0\n",
      "            Conv2d-6          [-1, 128, 32, 32]          73,856\n",
      "              ReLU-7          [-1, 128, 32, 32]               0\n",
      "            Conv2d-8          [-1, 128, 32, 32]         147,584\n",
      "              ReLU-9          [-1, 128, 32, 32]               0\n",
      "        MaxPool2d-10          [-1, 128, 16, 16]               0\n",
      "           Conv2d-11          [-1, 256, 16, 16]         295,168\n",
      "             ReLU-12          [-1, 256, 16, 16]               0\n",
      "           Conv2d-13          [-1, 256, 16, 16]         590,080\n",
      "             ReLU-14          [-1, 256, 16, 16]               0\n",
      "           Conv2d-15          [-1, 256, 16, 16]         590,080\n",
      "             ReLU-16          [-1, 256, 16, 16]               0\n",
      "           Conv2d-17          [-1, 256, 16, 16]         590,080\n",
      "             ReLU-18          [-1, 256, 16, 16]               0\n",
      "        MaxPool2d-19            [-1, 256, 8, 8]               0\n",
      "           Conv2d-20            [-1, 512, 8, 8]       1,180,160\n",
      "             ReLU-21            [-1, 512, 8, 8]               0\n",
      "           Conv2d-22            [-1, 512, 8, 8]       2,359,808\n",
      "             ReLU-23            [-1, 512, 8, 8]               0\n",
      "           Conv2d-24            [-1, 512, 8, 8]       2,359,808\n",
      "             ReLU-25            [-1, 512, 8, 8]               0\n",
      "           Conv2d-26            [-1, 512, 8, 8]       2,359,808\n",
      "             ReLU-27            [-1, 512, 8, 8]               0\n",
      "        MaxPool2d-28            [-1, 512, 4, 4]               0\n",
      "           Conv2d-29            [-1, 512, 4, 4]       2,359,808\n",
      "             ReLU-30            [-1, 512, 4, 4]               0\n",
      "           Conv2d-31            [-1, 512, 4, 4]       2,359,808\n",
      "             ReLU-32            [-1, 512, 4, 4]               0\n",
      "           Conv2d-33            [-1, 512, 4, 4]       2,359,808\n",
      "             ReLU-34            [-1, 512, 4, 4]               0\n",
      "           Conv2d-35            [-1, 512, 4, 4]       2,359,808\n",
      "             ReLU-36            [-1, 512, 4, 4]               0\n",
      "        MaxPool2d-37            [-1, 512, 2, 2]               0\n",
      "AdaptiveAvgPool2d-38            [-1, 512, 1, 1]               0\n",
      "          Flatten-39                  [-1, 512]               0\n",
      "           Linear-40                  [-1, 128]          65,664\n",
      "             ReLU-41                  [-1, 128]               0\n",
      "          Dropout-42                  [-1, 128]               0\n",
      "           Linear-43                   [-1, 10]           1,290\n",
      "================================================================\n",
      "Total params: 20,091,338\n",
      "Trainable params: 66,954\n",
      "Non-trainable params: 20,024,384\n",
      "----------------------------------------------------------------\n",
      "Input size (MB): 0.05\n",
      "Forward/backward pass size (MB): 19.46\n",
      "Params size (MB): 76.64\n",
      "Estimated Total Size (MB): 96.15\n",
      "----------------------------------------------------------------\n"
     ]
    }
   ],
   "source": [
    "summary(model, (3, 64, 64))"
   ]
  },
  {
   "cell_type": "markdown",
   "metadata": {},
   "source": [
    "#### 4. Build the Train and Accuracy Functions "
   ]
  },
  {
   "cell_type": "code",
   "execution_count": 28,
   "metadata": {},
   "outputs": [],
   "source": [
    "def train_batch(model, loss_function, optimizer, image, label):\n",
    "    model.train()\n",
    "    optimizer.zero_grad()\n",
    "    prediction = model(image)\n",
    "    loss = loss_function(prediction, label.long().squeeze())\n",
    "    loss.backward()\n",
    "    optimizer.step()\n",
    "    return loss.item()"
   ]
  },
  {
   "cell_type": "code",
   "execution_count": 29,
   "metadata": {},
   "outputs": [],
   "source": [
    "@torch.no_grad()\n",
    "def accuracy(model, loss_function, image, label):\n",
    "    model.eval()\n",
    "    prediction = model(image)\n",
    "    max_values, argmaxes = prediction.max(-1)\n",
    "    is_correct = argmaxes == label.long().squeeze()\n",
    "    return is_correct.cpu().numpy().tolist()"
   ]
  },
  {
   "cell_type": "code",
   "execution_count": 30,
   "metadata": {},
   "outputs": [],
   "source": [
    "@torch.no_grad()\n",
    "def validation_loss(model, loss_function, image, label):\n",
    "    model.eval()\n",
    "    prediction = model(image)\n",
    "    loss = loss_function(prediction, label.long().squeeze())\n",
    "    return loss.item()"
   ]
  },
  {
   "cell_type": "markdown",
   "metadata": {},
   "source": [
    "#### 5. Train the Model"
   ]
  },
  {
   "cell_type": "code",
   "execution_count": 33,
   "metadata": {},
   "outputs": [
    {
     "name": "stdout",
     "output_type": "stream",
     "text": [
      "Epoch: 1\n",
      "Train Loss: 0.2623\n",
      "Train Loss: 0.2623\n",
      "Train Accuracy: 93.09%\n",
      "Train Accuracy: 93.09%\n",
      "Test Loss: 0.3199\n",
      "Test Accuracy: 89.32%\n",
      "Epoch: 2\n",
      "Test Loss: 0.3199\n",
      "Test Accuracy: 89.32%\n",
      "Epoch: 2\n",
      "Train Loss: 0.2327\n",
      "Train Loss: 0.2327\n",
      "Train Accuracy: 93.79%\n",
      "Train Accuracy: 93.79%\n",
      "Test Loss: 0.3189\n",
      "Test Accuracy: 89.48%\n",
      "Test Loss: 0.3189\n",
      "Test Accuracy: 89.48%\n"
     ]
    }
   ],
   "source": [
    "train_losses = []\n",
    "train_accuracies = []\n",
    "test_losses = []\n",
    "test_accuracies = []\n",
    "for epoch in range(2):\n",
    "    print(f\"Epoch: {epoch+1}\")\n",
    "    train_epoch_losses = []\n",
    "    train_epoch_accuracies = []\n",
    "    for image, label in iter(train_dataset_loader):\n",
    "        loss = train_batch(model, loss_function, optimizer, image, label)\n",
    "        train_epoch_losses.append(loss)\n",
    "    train_epoch_loss = np.mean(train_epoch_losses)\n",
    "    print(f\"Train Loss: {train_epoch_loss:.4f}\")\n",
    "    train_losses.append(train_epoch_loss)\n",
    "    \n",
    "    for image, label in iter(train_dataset_loader):\n",
    "        is_correct = accuracy(model, loss_function, image, label)\n",
    "        train_epoch_accuracies.extend(is_correct)\n",
    "    train_epoch_accuracy = np.mean(train_epoch_accuracies)\n",
    "    print(f\"Train Accuracy: {train_epoch_accuracy*100:.2f}%\")\n",
    "    train_accuracies.append(train_epoch_accuracy)\n",
    "    \n",
    "    test_epoch_losses = []\n",
    "    test_epoch_accuracies = []\n",
    "    for image, label in iter(test_dataset_loader):\n",
    "        loss = validation_loss(model, loss_function, image, label)\n",
    "        test_epoch_losses.append(loss)\n",
    "        is_correct = accuracy(model, loss_function, image, label)\n",
    "        test_epoch_accuracies.extend(is_correct)\n",
    "    test_epoch_loss = np.mean(test_epoch_losses)\n",
    "    print(f\"Test Loss: {test_epoch_loss:.4f}\")\n",
    "    test_losses.append(test_epoch_loss)\n",
    "    test_epcoh_accuracy = np.mean(test_epoch_accuracies)\n",
    "    print(f\"Test Accuracy: {test_epcoh_accuracy*100:.2f}%\")\n",
    "    test_accuracies.append(test_epcoh_accuracy)\n"
   ]
  },
  {
   "cell_type": "markdown",
   "metadata": {},
   "source": [
    "#### 6. Visualize the Train Loss/Accuracy and the Test Loss/Accuracy"
   ]
  },
  {
   "cell_type": "code",
   "execution_count": 34,
   "metadata": {},
   "outputs": [
    {
     "data": {
      "image/png": "[encoded data removed]",
      "text/plain": [
       "<Figure size 2000x500 with 2 Axes>"
      ]
     },
     "metadata": {},
     "output_type": "display_data"
    }
   ],
   "source": [
    "epochs = np.arange(2)+1\n",
    "plt.figure(figsize=(20,5))\n",
    "plt.subplot(121)\n",
    "plt.title('Training and Test Loss value over increasing epochs')\n",
    "plt.plot(epochs, train_losses,'b', label='Training Loss')\n",
    "plt.plot(epochs, test_losses,'r', label='Test Loss')\n",
    "plt.legend()\n",
    "plt.subplot(122)\n",
    "plt.title('Training and Test Accuracy value over increasing epochs')\n",
    "plt.plot(epochs, train_accuracies,'b', label='Training Accuracy')\n",
    "plt.plot(epochs, test_accuracies,'r', label='Test Accuracy')\n",
    "plt.gca().set_yticklabels(['{:.0f}%'.format(x*100) for x in plt.gca().get_yticks()])\n",
    "plt.legend()\n",
    "plt.show()"
   ]
  },
  {
   "cell_type": "code",
   "execution_count": null,
   "metadata": {},
   "outputs": [],
   "source": []
  }
 ],
 "metadata": {
  "kernelspec": {
   "display_name": "Python 3",
   "language": "python",
   "name": "python3"
  },
  "language_info": {
   "codemirror_mode": {
    "name": "ipython",
    "version": 3
   },
   "file_extension": ".py",
   "mimetype": "text/x-python",
   "name": "python",
   "nbconvert_exporter": "python",
   "pygments_lexer": "ipython3",
   "version": "3.9.6"
  }
 },
 "nbformat": 4,
 "nbformat_minor": 2
}
