{
 "cells": [
  {
   "attachments": {},
   "cell_type": "markdown",
   "metadata": {},
   "source": [
    "#### 1. Import the Relevent Packages"
   ]
  },
  {
   "cell_type": "code",
   "execution_count": null,
   "metadata": {},
   "outputs": [],
   "source": []
  },
  {
   "cell_type": "code",
   "execution_count": 2,
   "metadata": {},
   "outputs": [
    {
     "ename": "ModuleNotFoundError",
     "evalue": "No module named 'cv2'",
     "output_type": "error",
     "traceback": [
      "\u001b[0;31m---------------------------------------------------------------------------\u001b[0m",
      "\u001b[0;31mModuleNotFoundError\u001b[0m                       Traceback (most recent call last)",
      "Cell \u001b[0;32mIn[2], line 5\u001b[0m\n\u001b[1;32m      3\u001b[0m \u001b[38;5;28;01mimport\u001b[39;00m\u001b[38;5;250m \u001b[39m\u001b[38;5;21;01mtorch\u001b[39;00m\u001b[38;5;21;01m.\u001b[39;00m\u001b[38;5;21;01moptim\u001b[39;00m\u001b[38;5;250m \u001b[39m\u001b[38;5;28;01mas\u001b[39;00m\u001b[38;5;250m \u001b[39m\u001b[38;5;21;01moptim\u001b[39;00m\n\u001b[1;32m      4\u001b[0m \u001b[38;5;28;01mfrom\u001b[39;00m\u001b[38;5;250m \u001b[39m\u001b[38;5;21;01mtorchvision\u001b[39;00m\u001b[38;5;250m \u001b[39m\u001b[38;5;28;01mimport\u001b[39;00m transforms, datasets, models\n\u001b[0;32m----> 5\u001b[0m \u001b[38;5;28;01mimport\u001b[39;00m\u001b[38;5;250m \u001b[39m\u001b[38;5;21;01mcv2\u001b[39;00m\n\u001b[1;32m      6\u001b[0m \u001b[38;5;28;01mimport\u001b[39;00m\u001b[38;5;250m \u001b[39m\u001b[38;5;21;01mnumpy\u001b[39;00m\u001b[38;5;250m \u001b[39m\u001b[38;5;28;01mas\u001b[39;00m\u001b[38;5;250m \u001b[39m\u001b[38;5;21;01mnp\u001b[39;00m\n\u001b[1;32m      7\u001b[0m \u001b[38;5;28;01mimport\u001b[39;00m\u001b[38;5;250m \u001b[39m\u001b[38;5;21;01mmatplotlib\u001b[39;00m\u001b[38;5;21;01m.\u001b[39;00m\u001b[38;5;21;01mpyplot\u001b[39;00m\u001b[38;5;250m \u001b[39m\u001b[38;5;28;01mas\u001b[39;00m\u001b[38;5;250m \u001b[39m\u001b[38;5;21;01mplt\u001b[39;00m\n",
      "\u001b[0;31mModuleNotFoundError\u001b[0m: No module named 'cv2'"
     ]
    }
   ],
   "source": [
    "import torch\n",
    "import torch.nn as nn\n",
    "import torch.optim as optim\n",
    "from torchvision import transforms, datasets, models\n",
    "import cv2\n",
    "import numpy as np\n",
    "import matplotlib.pyplot as plt\n",
    "from torch.utils.data import DataLoader, Dataset\n",
    "from glob import glob\n",
    "from torchsummary import summary\n",
    "import os\n",
    "import warnings\n",
    "warnings.filterwarnings('ignore')"
   ]
  },
  {
   "cell_type": "code",
   "execution_count": 2,
   "metadata": {},
   "outputs": [],
   "source": [
    "# Device configuration\n",
    "device = torch.device(\"cuda\" if torch.cuda.is_available() else \"cpu\")"
   ]
  },
  {
   "attachments": {},
   "cell_type": "markdown",
   "metadata": {},
   "source": [
    "#### 2. Prepare the Dataset"
   ]
  },
  {
   "cell_type": "code",
   "execution_count": 3,
   "metadata": {},
   "outputs": [],
   "source": [
    "class MyDataset(Dataset):\n",
    "    \n",
    "    def __init__(self, root, transform_status=True):\n",
    "        \n",
    "        self.root = root\n",
    "        self.images_paths = [glob(f'{root}/{folder}/*.jpg') for folder in os.listdir(f\"{root}\")] \n",
    "\n",
    "        import itertools\n",
    "        self.images_paths = list(itertools.chain.from_iterable(self.images_paths))\n",
    "\n",
    "        import random\n",
    "        random.shuffle(self.images_paths)\n",
    "\n",
    "        self.classes_names = {class_name:label for label, class_name in enumerate(os.listdir(f\"{root}\"))}\n",
    "        self.labels = [self.classes_names[os.path.basename(os.path.dirname(path))] for path in self.images_paths]\n",
    "        self.transform_status = transform_status\n",
    "        self.transform = transforms.Normalize(mean=[0.485,0.456, 0.406],std=[0.229, 0.224, 0.225])\n",
    "    \n",
    "    def __len__(self):\n",
    "        return len(self.images_paths)   \n",
    "        \n",
    "    def __getitem__(self, index):\n",
    "        image_path = self.images_paths[index]\n",
    "        image = cv2.imread(image_path)[:,:,::-1]\n",
    "        image = cv2.resize(image, (64,64))\n",
    "        image = torch.tensor(image/255).permute(2,0,1)\n",
    "        if self.transform_status: image = self.transform(image)\n",
    "        label = self.labels[index]\n",
    "        \n",
    "        return image.float().to(device), torch.tensor([label]).float().to(device)\n",
    "    \n",
    "    "
   ]
  },
  {
   "cell_type": "code",
   "execution_count": 4,
   "metadata": {},
   "outputs": [],
   "source": [
    "data =  MyDataset(\"dataset_rgb/train\", transform_status=False)"
   ]
  },
  {
   "cell_type": "code",
   "execution_count": 5,
   "metadata": {},
   "outputs": [
    {
     "data": {
      "text/plain": [
       "{'River': 0,\n",
       " 'HerbaceousVegetation': 1,\n",
       " 'Residential': 2,\n",
       " 'Highway': 3,\n",
       " 'SeaLake': 4,\n",
       " 'AnnualCrop': 5,\n",
       " 'PermanentCrop': 6,\n",
       " 'Forest': 7,\n",
       " 'Industrial': 8,\n",
       " 'Pasture': 9}"
      ]
     },
     "execution_count": 5,
     "metadata": {},
     "output_type": "execute_result"
    }
   ],
   "source": [
    "data.classes_names"
   ]
  },
  {
   "cell_type": "code",
   "execution_count": 6,
   "metadata": {},
   "outputs": [],
   "source": [
    "import random\n",
    "image, label = data[random.randint(0, len(data))]"
   ]
  },
  {
   "cell_type": "code",
   "execution_count": 7,
   "metadata": {},
   "outputs": [
    {
     "name": "stdout",
     "output_type": "stream",
     "text": [
      "Image Size: 64 x 64 x 3\n",
      "Label: tensor([6.], device='cuda:0')\n",
      "PermanentCrop\n"
     ]
    },
    {
     "data": {
      "image/png": "[encoded data removed]",
      "text/plain": [
       "<Figure size 432x288 with 1 Axes>"
      ]
     },
     "metadata": {
      "needs_background": "light"
     },
     "output_type": "display_data"
    }
   ],
   "source": [
    "print(f\"Image Size: {image.shape[2]} x {image.shape[1]} x {image.shape[0]}\")\n",
    "print(f\"Label: {label}\")\n",
    "print([key  for key, value in data.classes_names.items() if value == label][0])\n",
    "plt.imshow(image.permute(1,2,0).cpu().numpy())\n",
    "plt.show()"
   ]
  },
  {
   "cell_type": "code",
   "execution_count": 8,
   "metadata": {},
   "outputs": [],
   "source": [
    "train_dataset = MyDataset(\"dataset_rgb/train\", transform_status=True)\n",
    "test_dataset = MyDataset(\"dataset_rgb/test\", transform_status=True)\n",
    "train_dataset_loader = DataLoader(train_dataset, batch_size=32, shuffle=True, drop_last=True)\n",
    "test_dataset_loader = DataLoader(test_dataset, batch_size=32, shuffle=True, drop_last=True)"
   ]
  },
  {
   "attachments": {},
   "cell_type": "markdown",
   "metadata": {},
   "source": [
    "#### 3. Build the Model"
   ]
  },
  {
   "cell_type": "code",
   "execution_count": 9,
   "metadata": {},
   "outputs": [],
   "source": [
    "def conv_block(in_channels, out_channels, kernel_size=3, stride=1, padding=1):\n",
    "    return nn.Sequential(\n",
    "        nn.Conv2d(in_channels=in_channels, out_channels=out_channels, kernel_size=kernel_size, stride=stride, padding=padding),\n",
    "        nn.BatchNorm2d(out_channels),\n",
    "        nn.ReLU(),\n",
    "        nn.MaxPool2d(kernel_size=2, stride=1)\n",
    "    )\n",
    "def build_model():\n",
    "    model = nn.Sequential(\n",
    "        conv_block(3, 64,3),\n",
    "        conv_block(64, 128,3),\n",
    "        conv_block(128, 256,3),\n",
    "        conv_block(256, 512,3),\n",
    "        nn.AdaptiveAvgPool2d((1,1)),\n",
    "        nn.Flatten(),\n",
    "        nn.Linear(512, 128),\n",
    "        nn.ReLU(),\n",
    "        nn.Dropout(0.3),\n",
    "        nn.Linear(128, 64),\n",
    "        nn.ReLU(),\n",
    "        nn.Dropout(0.3),\n",
    "        nn.Linear(64, 10),\n",
    "    )\n",
    "        \n",
    "\n",
    "    loss_fn = nn.CrossEntropyLoss()\n",
    "    optimizer = optim.Adam(model.parameters(), lr=1e-3)\n",
    "    \n",
    "    return model.to(device) , loss_fn, optimizer\n"
   ]
  },
  {
   "cell_type": "code",
   "execution_count": 10,
   "metadata": {},
   "outputs": [],
   "source": [
    "model , loss_function, optimizer = build_model()"
   ]
  },
  {
   "cell_type": "code",
   "execution_count": 11,
   "metadata": {},
   "outputs": [
    {
     "name": "stdout",
     "output_type": "stream",
     "text": [
      "==========================================================================================\n",
      "Layer (type:depth-idx)                   Output Shape              Param #\n",
      "==========================================================================================\n",
      "├─Sequential: 1-1                        [-1, 64, 63, 63]          --\n",
      "|    └─Conv2d: 2-1                       [-1, 64, 64, 64]          1,792\n",
      "|    └─BatchNorm2d: 2-2                  [-1, 64, 64, 64]          128\n",
      "|    └─ReLU: 2-3                         [-1, 64, 64, 64]          --\n",
      "|    └─MaxPool2d: 2-4                    [-1, 64, 63, 63]          --\n",
      "├─Sequential: 1-2                        [-1, 128, 62, 62]         --\n",
      "|    └─Conv2d: 2-5                       [-1, 128, 63, 63]         73,856\n",
      "|    └─BatchNorm2d: 2-6                  [-1, 128, 63, 63]         256\n",
      "|    └─ReLU: 2-7                         [-1, 128, 63, 63]         --\n",
      "|    └─MaxPool2d: 2-8                    [-1, 128, 62, 62]         --\n",
      "├─Sequential: 1-3                        [-1, 256, 61, 61]         --\n",
      "|    └─Conv2d: 2-9                       [-1, 256, 62, 62]         295,168\n",
      "|    └─BatchNorm2d: 2-10                 [-1, 256, 62, 62]         512\n",
      "|    └─ReLU: 2-11                        [-1, 256, 62, 62]         --\n",
      "|    └─MaxPool2d: 2-12                   [-1, 256, 61, 61]         --\n",
      "├─Sequential: 1-4                        [-1, 512, 60, 60]         --\n",
      "|    └─Conv2d: 2-13                      [-1, 512, 61, 61]         1,180,160\n",
      "|    └─BatchNorm2d: 2-14                 [-1, 512, 61, 61]         1,024\n",
      "|    └─ReLU: 2-15                        [-1, 512, 61, 61]         --\n",
      "|    └─MaxPool2d: 2-16                   [-1, 512, 60, 60]         --\n",
      "├─AdaptiveAvgPool2d: 1-5                 [-1, 512, 1, 1]           --\n",
      "├─Flatten: 1-6                           [-1, 512]                 --\n",
      "├─Linear: 1-7                            [-1, 128]                 65,664\n",
      "├─ReLU: 1-8                              [-1, 128]                 --\n",
      "├─Dropout: 1-9                           [-1, 128]                 --\n",
      "├─Linear: 1-10                           [-1, 64]                  8,256\n",
      "├─ReLU: 1-11                             [-1, 64]                  --\n",
      "├─Dropout: 1-12                          [-1, 64]                  --\n",
      "├─Linear: 1-13                           [-1, 10]                  650\n",
      "==========================================================================================\n",
      "Total params: 1,627,466\n",
      "Trainable params: 1,627,466\n",
      "Non-trainable params: 0\n",
      "Total mult-adds (G): 5.82\n",
      "==========================================================================================\n",
      "Input size (MB): 0.05\n",
      "Forward/backward pass size (MB): 55.84\n",
      "Params size (MB): 6.21\n",
      "Estimated Total Size (MB): 62.09\n",
      "==========================================================================================\n"
     ]
    },
    {
     "data": {
      "text/plain": [
       "==========================================================================================\n",
       "Layer (type:depth-idx)                   Output Shape              Param #\n",
       "==========================================================================================\n",
       "├─Sequential: 1-1                        [-1, 64, 63, 63]          --\n",
       "|    └─Conv2d: 2-1                       [-1, 64, 64, 64]          1,792\n",
       "|    └─BatchNorm2d: 2-2                  [-1, 64, 64, 64]          128\n",
       "|    └─ReLU: 2-3                         [-1, 64, 64, 64]          --\n",
       "|    └─MaxPool2d: 2-4                    [-1, 64, 63, 63]          --\n",
       "├─Sequential: 1-2                        [-1, 128, 62, 62]         --\n",
       "|    └─Conv2d: 2-5                       [-1, 128, 63, 63]         73,856\n",
       "|    └─BatchNorm2d: 2-6                  [-1, 128, 63, 63]         256\n",
       "|    └─ReLU: 2-7                         [-1, 128, 63, 63]         --\n",
       "|    └─MaxPool2d: 2-8                    [-1, 128, 62, 62]         --\n",
       "├─Sequential: 1-3                        [-1, 256, 61, 61]         --\n",
       "|    └─Conv2d: 2-9                       [-1, 256, 62, 62]         295,168\n",
       "|    └─BatchNorm2d: 2-10                 [-1, 256, 62, 62]         512\n",
       "|    └─ReLU: 2-11                        [-1, 256, 62, 62]         --\n",
       "|    └─MaxPool2d: 2-12                   [-1, 256, 61, 61]         --\n",
       "├─Sequential: 1-4                        [-1, 512, 60, 60]         --\n",
       "|    └─Conv2d: 2-13                      [-1, 512, 61, 61]         1,180,160\n",
       "|    └─BatchNorm2d: 2-14                 [-1, 512, 61, 61]         1,024\n",
       "|    └─ReLU: 2-15                        [-1, 512, 61, 61]         --\n",
       "|    └─MaxPool2d: 2-16                   [-1, 512, 60, 60]         --\n",
       "├─AdaptiveAvgPool2d: 1-5                 [-1, 512, 1, 1]           --\n",
       "├─Flatten: 1-6                           [-1, 512]                 --\n",
       "├─Linear: 1-7                            [-1, 128]                 65,664\n",
       "├─ReLU: 1-8                              [-1, 128]                 --\n",
       "├─Dropout: 1-9                           [-1, 128]                 --\n",
       "├─Linear: 1-10                           [-1, 64]                  8,256\n",
       "├─ReLU: 1-11                             [-1, 64]                  --\n",
       "├─Dropout: 1-12                          [-1, 64]                  --\n",
       "├─Linear: 1-13                           [-1, 10]                  650\n",
       "==========================================================================================\n",
       "Total params: 1,627,466\n",
       "Trainable params: 1,627,466\n",
       "Non-trainable params: 0\n",
       "Total mult-adds (G): 5.82\n",
       "==========================================================================================\n",
       "Input size (MB): 0.05\n",
       "Forward/backward pass size (MB): 55.84\n",
       "Params size (MB): 6.21\n",
       "Estimated Total Size (MB): 62.09\n",
       "=========================================================================================="
      ]
     },
     "execution_count": 11,
     "metadata": {},
     "output_type": "execute_result"
    }
   ],
   "source": [
    "summary(model, torch.zeros(1,3, 64, 64))"
   ]
  },
  {
   "attachments": {},
   "cell_type": "markdown",
   "metadata": {},
   "source": [
    "#### 4. Build the Train and Accuracy Functions "
   ]
  },
  {
   "cell_type": "code",
   "execution_count": 12,
   "metadata": {},
   "outputs": [],
   "source": [
    "def train_batch(model, loss_function, optimizer, image, label):\n",
    "    model.train()\n",
    "    optimizer.zero_grad()\n",
    "    prediction = model(image)\n",
    "    loss = loss_function(prediction, label.long().squeeze())\n",
    "    loss.backward()\n",
    "    optimizer.step()\n",
    "    return loss.item()"
   ]
  },
  {
   "cell_type": "code",
   "execution_count": 13,
   "metadata": {},
   "outputs": [],
   "source": [
    "@torch.no_grad()\n",
    "def accuracy(model, loss_function, image, label):\n",
    "    model.eval()\n",
    "    prediction = model(image)\n",
    "    max_values, argmaxes = prediction.max(-1)\n",
    "    is_correct = argmaxes == label.long().squeeze()\n",
    "    return is_correct.cpu().numpy().tolist()"
   ]
  },
  {
   "cell_type": "code",
   "execution_count": 14,
   "metadata": {},
   "outputs": [],
   "source": [
    "@torch.no_grad()\n",
    "def validation_loss(model, loss_function, image, label):\n",
    "    model.eval()\n",
    "    prediction = model(image)\n",
    "    loss = loss_function(prediction, label.long().squeeze())\n",
    "    return loss.item()"
   ]
  },
  {
   "attachments": {},
   "cell_type": "markdown",
   "metadata": {},
   "source": [
    "#### 5. Train the Model"
   ]
  },
  {
   "cell_type": "code",
   "execution_count": 15,
   "metadata": {},
   "outputs": [
    {
     "name": "stdout",
     "output_type": "stream",
     "text": [
      "Epoch: 1\n",
      "Train Loss: 1.0758\n",
      "Train Accuracy: 74.15%\n",
      "Test Loss: 0.7849\n",
      "Test Accuracy: 72.64%\n",
      "Epoch: 2\n",
      "Train Loss: 0.7907\n",
      "Train Accuracy: 77.67%\n",
      "Test Loss: 0.6664\n",
      "Test Accuracy: 75.00%\n",
      "Epoch: 3\n",
      "Train Loss: 0.6864\n",
      "Train Accuracy: 78.57%\n",
      "Test Loss: 0.6275\n",
      "Test Accuracy: 77.40%\n",
      "Epoch: 4\n",
      "Train Loss: 0.6464\n",
      "Train Accuracy: 74.78%\n",
      "Test Loss: 0.7536\n",
      "Test Accuracy: 74.22%\n",
      "Epoch: 5\n",
      "Train Loss: 0.5845\n",
      "Train Accuracy: 70.50%\n",
      "Test Loss: 1.3060\n",
      "Test Accuracy: 68.99%\n",
      "Epoch: 6\n",
      "Train Loss: 0.5484\n",
      "Train Accuracy: 86.18%\n",
      "Test Loss: 0.4358\n",
      "Test Accuracy: 85.50%\n",
      "Epoch: 7\n",
      "Train Loss: 0.5121\n",
      "Train Accuracy: 87.71%\n",
      "Test Loss: 0.4001\n",
      "Test Accuracy: 85.98%\n",
      "Epoch: 8\n",
      "Train Loss: 0.4543\n",
      "Train Accuracy: 84.49%\n",
      "Test Loss: 0.5308\n",
      "Test Accuracy: 82.35%\n",
      "Epoch: 9\n",
      "Train Loss: 0.4316\n",
      "Train Accuracy: 89.55%\n",
      "Test Loss: 0.3656\n",
      "Test Accuracy: 87.44%\n",
      "Epoch: 10\n",
      "Train Loss: 0.4032\n",
      "Train Accuracy: 90.63%\n",
      "Test Loss: 0.3151\n",
      "Test Accuracy: 89.42%\n",
      "Epoch: 11\n",
      "Train Loss: 0.3700\n",
      "Train Accuracy: 84.99%\n",
      "Test Loss: 0.5472\n",
      "Test Accuracy: 82.99%\n",
      "Epoch: 12\n",
      "Train Loss: 0.3520\n",
      "Train Accuracy: 89.00%\n",
      "Test Loss: 0.3854\n",
      "Test Accuracy: 87.16%\n",
      "Epoch: 13\n",
      "Train Loss: 0.3404\n",
      "Train Accuracy: 91.45%\n",
      "Test Loss: 0.3084\n",
      "Test Accuracy: 89.06%\n",
      "Epoch: 14\n",
      "Train Loss: 0.3227\n",
      "Train Accuracy: 91.71%\n",
      "Test Loss: 0.2807\n",
      "Test Accuracy: 89.94%\n",
      "Epoch: 15\n",
      "Train Loss: 0.3095\n",
      "Train Accuracy: 84.73%\n",
      "Test Loss: 0.5827\n",
      "Test Accuracy: 83.03%\n",
      "Epoch: 16\n",
      "Train Loss: 0.2791\n",
      "Train Accuracy: 93.35%\n",
      "Test Loss: 0.2394\n",
      "Test Accuracy: 91.43%\n",
      "Epoch: 17\n",
      "Train Loss: 0.2767\n",
      "Train Accuracy: 93.24%\n",
      "Test Loss: 0.2524\n",
      "Test Accuracy: 91.55%\n",
      "Epoch: 18\n",
      "Train Loss: 0.2587\n",
      "Train Accuracy: 93.25%\n",
      "Test Loss: 0.2493\n",
      "Test Accuracy: 91.37%\n",
      "Epoch: 19\n",
      "Train Loss: 0.2510\n",
      "Train Accuracy: 94.96%\n",
      "Test Loss: 0.1838\n",
      "Test Accuracy: 93.51%\n",
      "Epoch: 20\n",
      "Train Loss: 0.2433\n",
      "Train Accuracy: 82.80%\n",
      "Test Loss: 0.8524\n",
      "Test Accuracy: 81.27%\n",
      "Epoch: 21\n",
      "Train Loss: 0.2220\n",
      "Train Accuracy: 93.28%\n",
      "Test Loss: 0.2611\n",
      "Test Accuracy: 90.79%\n",
      "Epoch: 22\n",
      "Train Loss: 0.2199\n",
      "Train Accuracy: 90.61%\n",
      "Test Loss: 0.3129\n",
      "Test Accuracy: 89.38%\n",
      "Epoch: 23\n",
      "Train Loss: 0.2304\n",
      "Train Accuracy: 92.41%\n",
      "Test Loss: 0.2660\n",
      "Test Accuracy: 91.29%\n",
      "Epoch: 24\n",
      "Train Loss: 0.2066\n",
      "Train Accuracy: 93.29%\n",
      "Test Loss: 0.2580\n",
      "Test Accuracy: 91.15%\n",
      "Epoch: 25\n",
      "Train Loss: 0.2000\n",
      "Train Accuracy: 95.31%\n",
      "Test Loss: 0.2079\n",
      "Test Accuracy: 93.69%\n",
      "Epoch: 26\n",
      "Train Loss: 0.2036\n",
      "Train Accuracy: 95.42%\n",
      "Test Loss: 0.1701\n",
      "Test Accuracy: 93.91%\n",
      "Epoch: 27\n",
      "Train Loss: 0.1975\n",
      "Train Accuracy: 88.11%\n",
      "Test Loss: 0.5092\n",
      "Test Accuracy: 85.66%\n",
      "Epoch: 28\n",
      "Train Loss: 0.1849\n",
      "Train Accuracy: 95.82%\n",
      "Test Loss: 0.1615\n",
      "Test Accuracy: 93.95%\n",
      "Epoch: 29\n",
      "Train Loss: 0.1739\n",
      "Train Accuracy: 95.83%\n",
      "Test Loss: 0.1777\n",
      "Test Accuracy: 94.31%\n",
      "Epoch: 30\n",
      "Train Loss: 0.1795\n",
      "Train Accuracy: 96.10%\n",
      "Test Loss: 0.1682\n",
      "Test Accuracy: 94.19%\n",
      "Epoch: 31\n",
      "Train Loss: 0.1757\n",
      "Train Accuracy: 94.60%\n",
      "Test Loss: 0.2092\n",
      "Test Accuracy: 92.39%\n",
      "Epoch: 32\n",
      "Train Loss: 0.1653\n",
      "Train Accuracy: 94.68%\n",
      "Test Loss: 0.2169\n",
      "Test Accuracy: 92.55%\n",
      "Epoch: 33\n",
      "Train Loss: 0.1642\n",
      "Train Accuracy: 96.83%\n",
      "Test Loss: 0.1510\n",
      "Test Accuracy: 95.15%\n",
      "Epoch: 34\n",
      "Train Loss: 0.1589\n",
      "Train Accuracy: 95.93%\n",
      "Test Loss: 0.1756\n",
      "Test Accuracy: 94.33%\n",
      "Epoch: 35\n",
      "Train Loss: 0.1483\n",
      "Train Accuracy: 93.00%\n",
      "Test Loss: 0.3016\n",
      "Test Accuracy: 90.73%\n",
      "Epoch: 36\n",
      "Train Loss: 0.1491\n",
      "Train Accuracy: 97.09%\n",
      "Test Loss: 0.1340\n",
      "Test Accuracy: 95.57%\n",
      "Epoch: 37\n",
      "Train Loss: 0.1423\n",
      "Train Accuracy: 96.88%\n",
      "Test Loss: 0.1528\n",
      "Test Accuracy: 94.87%\n",
      "Epoch: 38\n",
      "Train Loss: 0.1482\n",
      "Train Accuracy: 95.73%\n",
      "Test Loss: 0.1804\n",
      "Test Accuracy: 93.81%\n",
      "Epoch: 39\n",
      "Train Loss: 0.1362\n",
      "Train Accuracy: 97.36%\n",
      "Test Loss: 0.1323\n",
      "Test Accuracy: 95.73%\n",
      "Epoch: 40\n",
      "Train Loss: 0.1439\n",
      "Train Accuracy: 97.35%\n",
      "Test Loss: 0.1319\n",
      "Test Accuracy: 95.47%\n",
      "Epoch: 41\n",
      "Train Loss: 0.1277\n",
      "Train Accuracy: 97.33%\n",
      "Test Loss: 0.1469\n",
      "Test Accuracy: 95.21%\n",
      "Epoch: 42\n",
      "Train Loss: 0.1360\n",
      "Train Accuracy: 97.69%\n",
      "Test Loss: 0.1267\n",
      "Test Accuracy: 95.57%\n",
      "Epoch: 43\n",
      "Train Loss: 0.1272\n",
      "Train Accuracy: 97.51%\n",
      "Test Loss: 0.1337\n",
      "Test Accuracy: 95.39%\n",
      "Epoch: 44\n",
      "Train Loss: 0.1225\n",
      "Train Accuracy: 97.51%\n",
      "Test Loss: 0.1445\n",
      "Test Accuracy: 95.31%\n",
      "Epoch: 45\n",
      "Train Loss: 0.1208\n",
      "Train Accuracy: 91.81%\n",
      "Test Loss: 0.2935\n",
      "Test Accuracy: 90.04%\n",
      "Epoch: 46\n",
      "Train Loss: 0.1126\n",
      "Train Accuracy: 93.93%\n",
      "Test Loss: 0.2714\n",
      "Test Accuracy: 91.55%\n",
      "Epoch: 47\n",
      "Train Loss: 0.1236\n",
      "Train Accuracy: 92.50%\n",
      "Test Loss: 0.2935\n",
      "Test Accuracy: 90.95%\n",
      "Epoch: 48\n",
      "Train Loss: 0.1103\n",
      "Train Accuracy: 97.99%\n",
      "Test Loss: 0.1284\n",
      "Test Accuracy: 95.97%\n",
      "Epoch: 49\n",
      "Train Loss: 0.1055\n",
      "Train Accuracy: 94.21%\n",
      "Test Loss: 0.2846\n",
      "Test Accuracy: 91.91%\n",
      "Epoch: 50\n",
      "Train Loss: 0.1139\n",
      "Train Accuracy: 98.25%\n",
      "Test Loss: 0.1165\n",
      "Test Accuracy: 96.39%\n"
     ]
    }
   ],
   "source": [
    "train_losses = []\n",
    "train_accuracies = []\n",
    "test_losses = []\n",
    "test_accuracies = []\n",
    "for epoch in range(50):\n",
    "    print(f\"Epoch: {epoch+1}\")\n",
    "    train_epoch_losses = []\n",
    "    train_epoch_accuracies = []\n",
    "    for image, label in iter(train_dataset_loader):\n",
    "        loss = train_batch(model, loss_function, optimizer, image, label)\n",
    "        train_epoch_losses.append(loss)\n",
    "    train_epoch_loss = np.mean(train_epoch_losses)\n",
    "    print(f\"Train Loss: {train_epoch_loss:.4f}\")\n",
    "    train_losses.append(train_epoch_loss)\n",
    "    \n",
    "    for image, label in iter(train_dataset_loader):\n",
    "        is_correct = accuracy(model, loss_function, image, label)\n",
    "        train_epoch_accuracies.extend(is_correct)\n",
    "    train_epoch_accuracy = np.mean(train_epoch_accuracies)\n",
    "    print(f\"Train Accuracy: {train_epoch_accuracy*100:.2f}%\")\n",
    "    train_accuracies.append(train_epoch_accuracy)\n",
    "    \n",
    "    test_epoch_losses = []\n",
    "    test_epoch_accuracies = []\n",
    "    for image, label in iter(test_dataset_loader):\n",
    "        loss = validation_loss(model, loss_function, image, label)\n",
    "        test_epoch_losses.append(loss)\n",
    "        is_correct = accuracy(model, loss_function, image, label)\n",
    "        test_epoch_accuracies.extend(is_correct)\n",
    "    test_epoch_loss = np.mean(test_epoch_losses)\n",
    "    print(f\"Test Loss: {test_epoch_loss:.4f}\")\n",
    "    test_losses.append(test_epoch_loss)\n",
    "    test_epcoh_accuracy = np.mean(test_epoch_accuracies)\n",
    "    print(f\"Test Accuracy: {test_epcoh_accuracy*100:.2f}%\")\n",
    "    test_accuracies.append(test_epcoh_accuracy)\n"
   ]
  },
  {
   "attachments": {},
   "cell_type": "markdown",
   "metadata": {},
   "source": [
    "#### 6. Visualize the Train Loss/Accuracy and the Test Loss/Accuracy"
   ]
  },
  {
   "cell_type": "code",
   "execution_count": 17,
   "metadata": {},
   "outputs": [
    {
     "data": {
      "image/png": "[encoded data removed]",
      "text/plain": [
       "<Figure size 1800x576 with 2 Axes>"
      ]
     },
     "metadata": {
      "needs_background": "light"
     },
     "output_type": "display_data"
    }
   ],
   "source": [
    "epochs = np.arange(50)+1\n",
    "plt.figure(figsize=(25,8))\n",
    "plt.subplot(121)\n",
    "plt.title('Training and Test Loss value over increasing epochs')\n",
    "plt.plot(epochs, train_losses,'b', label='Training Loss')\n",
    "plt.plot(epochs, test_losses,'r', label='Test Loss')\n",
    "plt.legend()\n",
    "plt.subplot(122)\n",
    "plt.title('Training and Test Accuracy value over increasing epochs')\n",
    "plt.plot(epochs, train_accuracies,'b', label='Training Accuracy')\n",
    "plt.plot(epochs, test_accuracies,'r', label='Test Accuracy')\n",
    "plt.gca().set_yticklabels(['{:.0f}%'.format(x*100) for x in plt.gca().get_yticks()])\n",
    "plt.legend()\n",
    "plt.show()"
   ]
  },
  {
   "cell_type": "code",
   "execution_count": null,
   "metadata": {},
   "outputs": [],
   "source": []
  }
 ],
 "metadata": {
  "kernelspec": {
   "display_name": "Python 3",
   "language": "python",
   "name": "python3"
  },
  "language_info": {
   "codemirror_mode": {
    "name": "ipython",
    "version": 3
   },
   "file_extension": ".py",
   "mimetype": "text/x-python",
   "name": "python",
   "nbconvert_exporter": "python",
   "pygments_lexer": "ipython3",
   "version": "3.9.6"
  }
 },
 "nbformat": 4,
 "nbformat_minor": 2
}
